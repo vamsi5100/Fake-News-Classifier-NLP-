{
 "cells": [
  {
   "cell_type": "code",
   "execution_count": 46,
   "id": "a4f4ed47",
   "metadata": {},
   "outputs": [],
   "source": [
    "import os\n",
    "os.chdir(r'C:\\Users\\guthu\\Desktop\\fake news')\n",
    "import numpy as np\n",
    "import pandas as pd\n",
    "import matplotlib.pyplot as plt"
   ]
  },
  {
   "cell_type": "code",
   "execution_count": 2,
   "id": "6400cdcf",
   "metadata": {},
   "outputs": [],
   "source": [
    "data = pd.read_csv('train.csv',index_col=0)"
   ]
  },
  {
   "cell_type": "markdown",
   "id": "054d120d",
   "metadata": {},
   "source": [
    "### Text Pre-proccessing"
   ]
  },
  {
   "cell_type": "code",
   "execution_count": 3,
   "id": "f415b14c",
   "metadata": {},
   "outputs": [],
   "source": [
    "df = pd.DataFrame(data)"
   ]
  },
  {
   "cell_type": "code",
   "execution_count": 4,
   "id": "1ec6f8b6",
   "metadata": {},
   "outputs": [],
   "source": [
    "df = df.dropna()"
   ]
  },
  {
   "cell_type": "code",
   "execution_count": 140,
   "id": "f0902fca",
   "metadata": {},
   "outputs": [
    {
     "data": {
      "text/plain": [
       "<BarContainer object of 2 artists>"
      ]
     },
     "execution_count": 140,
     "metadata": {},
     "output_type": "execute_result"
    },
    {
     "data": {
      "image/png": "[encoded data removed]",
      "text/plain": [
       "<Figure size 432x288 with 1 Axes>"
      ]
     },
     "metadata": {
      "needs_background": "light"
     },
     "output_type": "display_data"
    }
   ],
   "source": [
    "dic = {'not fake':len(df['label'][df['label']==0]),'fake':len(df['label'][df['label']==1])}\n",
    "x = dic.keys()\n",
    "y = dic.values()\n",
    "plt.bar(x,y)"
   ]
  },
  {
   "cell_type": "code",
   "execution_count": 5,
   "id": "eb791dcf",
   "metadata": {},
   "outputs": [],
   "source": [
    "numbers = []\n",
    "for i in range(len(df['title'])):\n",
    "    numbers.append(i)"
   ]
  },
  {
   "cell_type": "code",
   "execution_count": 6,
   "id": "de79cb44",
   "metadata": {},
   "outputs": [],
   "source": [
    "df['id'] = numbers\n",
    "df.index = df['id']\n",
    "df.drop(['id'],axis=1,inplace=True)"
   ]
  },
  {
   "cell_type": "code",
   "execution_count": 7,
   "id": "01a193ec",
   "metadata": {},
   "outputs": [
    {
     "data": {
      "text/html": [
       "<div>\n",
       "<style scoped>\n",
       "    .dataframe tbody tr th:only-of-type {\n",
       "        vertical-align: middle;\n",
       "    }\n",
       "\n",
       "    .dataframe tbody tr th {\n",
       "        vertical-align: top;\n",
       "    }\n",
       "\n",
       "    .dataframe thead th {\n",
       "        text-align: right;\n",
       "    }\n",
       "</style>\n",
       "<table border=\"1\" class=\"dataframe\">\n",
       "  <thead>\n",
       "    <tr style=\"text-align: right;\">\n",
       "      <th></th>\n",
       "      <th>title</th>\n",
       "      <th>author</th>\n",
       "      <th>text</th>\n",
       "      <th>label</th>\n",
       "    </tr>\n",
       "    <tr>\n",
       "      <th>id</th>\n",
       "      <th></th>\n",
       "      <th></th>\n",
       "      <th></th>\n",
       "      <th></th>\n",
       "    </tr>\n",
       "  </thead>\n",
       "  <tbody>\n",
       "    <tr>\n",
       "      <th>0</th>\n",
       "      <td>House Dem Aide: We Didn’t Even See Comey’s Let...</td>\n",
       "      <td>Darrell Lucus</td>\n",
       "      <td>House Dem Aide: We Didn’t Even See Comey’s Let...</td>\n",
       "      <td>1</td>\n",
       "    </tr>\n",
       "    <tr>\n",
       "      <th>1</th>\n",
       "      <td>FLYNN: Hillary Clinton, Big Woman on Campus - ...</td>\n",
       "      <td>Daniel J. Flynn</td>\n",
       "      <td>Ever get the feeling your life circles the rou...</td>\n",
       "      <td>0</td>\n",
       "    </tr>\n",
       "    <tr>\n",
       "      <th>2</th>\n",
       "      <td>Why the Truth Might Get You Fired</td>\n",
       "      <td>Consortiumnews.com</td>\n",
       "      <td>Why the Truth Might Get You Fired October 29, ...</td>\n",
       "      <td>1</td>\n",
       "    </tr>\n",
       "    <tr>\n",
       "      <th>3</th>\n",
       "      <td>15 Civilians Killed In Single US Airstrike Hav...</td>\n",
       "      <td>Jessica Purkiss</td>\n",
       "      <td>Videos 15 Civilians Killed In Single US Airstr...</td>\n",
       "      <td>1</td>\n",
       "    </tr>\n",
       "    <tr>\n",
       "      <th>4</th>\n",
       "      <td>Iranian woman jailed for fictional unpublished...</td>\n",
       "      <td>Howard Portnoy</td>\n",
       "      <td>Print \\nAn Iranian woman has been sentenced to...</td>\n",
       "      <td>1</td>\n",
       "    </tr>\n",
       "    <tr>\n",
       "      <th>...</th>\n",
       "      <td>...</td>\n",
       "      <td>...</td>\n",
       "      <td>...</td>\n",
       "      <td>...</td>\n",
       "    </tr>\n",
       "    <tr>\n",
       "      <th>18280</th>\n",
       "      <td>Rapper T.I.: Trump a ’Poster Child For White S...</td>\n",
       "      <td>Jerome Hudson</td>\n",
       "      <td>Rapper T. I. unloaded on black celebrities who...</td>\n",
       "      <td>0</td>\n",
       "    </tr>\n",
       "    <tr>\n",
       "      <th>18281</th>\n",
       "      <td>N.F.L. Playoffs: Schedule, Matchups and Odds -...</td>\n",
       "      <td>Benjamin Hoffman</td>\n",
       "      <td>When the Green Bay Packers lost to the Washing...</td>\n",
       "      <td>0</td>\n",
       "    </tr>\n",
       "    <tr>\n",
       "      <th>18282</th>\n",
       "      <td>Macy’s Is Said to Receive Takeover Approach by...</td>\n",
       "      <td>Michael J. de la Merced and Rachel Abrams</td>\n",
       "      <td>The Macy’s of today grew from the union of sev...</td>\n",
       "      <td>0</td>\n",
       "    </tr>\n",
       "    <tr>\n",
       "      <th>18283</th>\n",
       "      <td>NATO, Russia To Hold Parallel Exercises In Bal...</td>\n",
       "      <td>Alex Ansary</td>\n",
       "      <td>NATO, Russia To Hold Parallel Exercises In Bal...</td>\n",
       "      <td>1</td>\n",
       "    </tr>\n",
       "    <tr>\n",
       "      <th>18284</th>\n",
       "      <td>What Keeps the F-35 Alive</td>\n",
       "      <td>David Swanson</td>\n",
       "      <td>David Swanson is an author, activist, journa...</td>\n",
       "      <td>1</td>\n",
       "    </tr>\n",
       "  </tbody>\n",
       "</table>\n",
       "<p>18285 rows × 4 columns</p>\n",
       "</div>"
      ],
      "text/plain": [
       "                                                   title  \\\n",
       "id                                                         \n",
       "0      House Dem Aide: We Didn’t Even See Comey’s Let...   \n",
       "1      FLYNN: Hillary Clinton, Big Woman on Campus - ...   \n",
       "2                      Why the Truth Might Get You Fired   \n",
       "3      15 Civilians Killed In Single US Airstrike Hav...   \n",
       "4      Iranian woman jailed for fictional unpublished...   \n",
       "...                                                  ...   \n",
       "18280  Rapper T.I.: Trump a ’Poster Child For White S...   \n",
       "18281  N.F.L. Playoffs: Schedule, Matchups and Odds -...   \n",
       "18282  Macy’s Is Said to Receive Takeover Approach by...   \n",
       "18283  NATO, Russia To Hold Parallel Exercises In Bal...   \n",
       "18284                          What Keeps the F-35 Alive   \n",
       "\n",
       "                                          author  \\\n",
       "id                                                 \n",
       "0                                  Darrell Lucus   \n",
       "1                                Daniel J. Flynn   \n",
       "2                             Consortiumnews.com   \n",
       "3                                Jessica Purkiss   \n",
       "4                                 Howard Portnoy   \n",
       "...                                          ...   \n",
       "18280                              Jerome Hudson   \n",
       "18281                           Benjamin Hoffman   \n",
       "18282  Michael J. de la Merced and Rachel Abrams   \n",
       "18283                                Alex Ansary   \n",
       "18284                              David Swanson   \n",
       "\n",
       "                                                    text  label  \n",
       "id                                                               \n",
       "0      House Dem Aide: We Didn’t Even See Comey’s Let...      1  \n",
       "1      Ever get the feeling your life circles the rou...      0  \n",
       "2      Why the Truth Might Get You Fired October 29, ...      1  \n",
       "3      Videos 15 Civilians Killed In Single US Airstr...      1  \n",
       "4      Print \\nAn Iranian woman has been sentenced to...      1  \n",
       "...                                                  ...    ...  \n",
       "18280  Rapper T. I. unloaded on black celebrities who...      0  \n",
       "18281  When the Green Bay Packers lost to the Washing...      0  \n",
       "18282  The Macy’s of today grew from the union of sev...      0  \n",
       "18283  NATO, Russia To Hold Parallel Exercises In Bal...      1  \n",
       "18284    David Swanson is an author, activist, journa...      1  \n",
       "\n",
       "[18285 rows x 4 columns]"
      ]
     },
     "execution_count": 7,
     "metadata": {},
     "output_type": "execute_result"
    }
   ],
   "source": [
    "df"
   ]
  },
  {
   "cell_type": "code",
   "execution_count": 85,
   "id": "4f92b4cb",
   "metadata": {},
   "outputs": [],
   "source": [
    "Combined_words = []\n",
    "for i in range(len(df['title'])):\n",
    "    c = ' '.join([df['title'][i],df['author'][i]])\n",
    "    Combined_words.append(c)"
   ]
  },
  {
   "cell_type": "code",
   "execution_count": 86,
   "id": "fc78978d",
   "metadata": {},
   "outputs": [
    {
     "data": {
      "text/plain": [
       "18285"
      ]
     },
     "execution_count": 86,
     "metadata": {},
     "output_type": "execute_result"
    }
   ],
   "source": [
    "len(Combined_words)"
   ]
  },
  {
   "cell_type": "code",
   "execution_count": 87,
   "id": "4adcf7e0",
   "metadata": {},
   "outputs": [],
   "source": [
    "import re\n",
    "new_data = []\n",
    "for sentence in Combined_words:\n",
    "   new_text = re.sub('[^a-zA-Z]',' ',sentence)\n",
    "   new_text = new_text.lower()\n",
    "   new_data.append(new_text)"
   ]
  },
  {
   "cell_type": "markdown",
   "id": "88957d64",
   "metadata": {},
   "source": [
    "### Train Test split"
   ]
  },
  {
   "cell_type": "code",
   "execution_count": 88,
   "id": "615f3d5c",
   "metadata": {},
   "outputs": [],
   "source": [
    "labels = df['label']"
   ]
  },
  {
   "cell_type": "code",
   "execution_count": 89,
   "id": "b01ea348",
   "metadata": {},
   "outputs": [],
   "source": [
    "from sklearn.model_selection import train_test_split\n",
    "X_train,X_test,Y_train,Y_test = train_test_split(new_data,labels,test_size=0.3,random_state=5)"
   ]
  },
  {
   "cell_type": "markdown",
   "id": "625c6746",
   "metadata": {},
   "source": [
    "### Tokenization"
   ]
  },
  {
   "cell_type": "code",
   "execution_count": 90,
   "id": "e1578a93",
   "metadata": {},
   "outputs": [],
   "source": [
    "from tensorflow.keras.preprocessing.text import Tokenizer\n",
    "T = Tokenizer(num_words=1000,oov_token='<UNK>')\n",
    "T.fit_on_texts(X_train)"
   ]
  },
  {
   "cell_type": "code",
   "execution_count": 91,
   "id": "296a5f39",
   "metadata": {},
   "outputs": [],
   "source": [
    "word_index = T.word_index  ### word to index dictionary"
   ]
  },
  {
   "cell_type": "code",
   "execution_count": 92,
   "id": "36f98b59",
   "metadata": {},
   "outputs": [
    {
     "data": {
      "text/plain": [
       "18776"
      ]
     },
     "execution_count": 92,
     "metadata": {},
     "output_type": "execute_result"
    }
   ],
   "source": [
    "len(word_index)"
   ]
  },
  {
   "cell_type": "code",
   "execution_count": 93,
   "id": "6b1b2188",
   "metadata": {},
   "outputs": [],
   "source": [
    "X_train = T.texts_to_sequences(X_train)"
   ]
  },
  {
   "cell_type": "code",
   "execution_count": 94,
   "id": "356ec051",
   "metadata": {},
   "outputs": [],
   "source": [
    "X_test = T.texts_to_sequences(X_test)"
   ]
  },
  {
   "cell_type": "markdown",
   "id": "42540381",
   "metadata": {},
   "source": [
    "### Padding "
   ]
  },
  {
   "cell_type": "code",
   "execution_count": 117,
   "id": "0293c332",
   "metadata": {},
   "outputs": [],
   "source": [
    "from tensorflow.keras.preprocessing.sequence import pad_sequences\n",
    "sentence_len = 40\n",
    "X_train = pad_sequences(X_train,maxlen=sentence_len,truncating='pre')\n",
    "X_test = pad_sequences(X_test,maxlen=sentence_len,truncating='pre')"
   ]
  },
  {
   "cell_type": "code",
   "execution_count": 118,
   "id": "55f76c8a",
   "metadata": {},
   "outputs": [
    {
     "name": "stdout",
     "output_type": "stream",
     "text": [
      "(12799, 40)\n",
      "(5486, 40)\n",
      "12799\n",
      "5486\n"
     ]
    }
   ],
   "source": [
    "print(X_train.shape)\n",
    "print(X_test.shape)\n",
    "print(len(Y_train))\n",
    "print(len(Y_test))"
   ]
  },
  {
   "cell_type": "markdown",
   "id": "cc756e2a",
   "metadata": {},
   "source": [
    "### Model building"
   ]
  },
  {
   "cell_type": "markdown",
   "id": "568ab67c",
   "metadata": {},
   "source": [
    "#### Logistic regression "
   ]
  },
  {
   "cell_type": "code",
   "execution_count": 119,
   "id": "4d9852a5",
   "metadata": {},
   "outputs": [],
   "source": [
    "from sklearn.linear_model import LogisticRegression"
   ]
  },
  {
   "cell_type": "code",
   "execution_count": 120,
   "id": "0e311bc4",
   "metadata": {},
   "outputs": [
    {
     "name": "stderr",
     "output_type": "stream",
     "text": [
      "C:\\Users\\guthu\\AppData\\Roaming\\Python\\Python39\\site-packages\\sklearn\\linear_model\\_logistic.py:444: ConvergenceWarning: lbfgs failed to converge (status=1):\n",
      "STOP: TOTAL NO. of ITERATIONS REACHED LIMIT.\n",
      "\n",
      "Increase the number of iterations (max_iter) or scale the data as shown in:\n",
      "    https://scikit-learn.org/stable/modules/preprocessing.html\n",
      "Please also refer to the documentation for alternative solver options:\n",
      "    https://scikit-learn.org/stable/modules/linear_model.html#logistic-regression\n",
      "  n_iter_i = _check_optimize_result(\n"
     ]
    },
    {
     "data": {
      "text/html": [
       "<style>#sk-container-id-4 {color: black;background-color: white;}#sk-container-id-4 pre{padding: 0;}#sk-container-id-4 div.sk-toggleable {background-color: white;}#sk-container-id-4 label.sk-toggleable__label {cursor: pointer;display: block;width: 100%;margin-bottom: 0;padding: 0.3em;box-sizing: border-box;text-align: center;}#sk-container-id-4 label.sk-toggleable__label-arrow:before {content: \"▸\";float: left;margin-right: 0.25em;color: #696969;}#sk-container-id-4 label.sk-toggleable__label-arrow:hover:before {color: black;}#sk-container-id-4 div.sk-estimator:hover label.sk-toggleable__label-arrow:before {color: black;}#sk-container-id-4 div.sk-toggleable__content {max-height: 0;max-width: 0;overflow: hidden;text-align: left;background-color: #f0f8ff;}#sk-container-id-4 div.sk-toggleable__content pre {margin: 0.2em;color: black;border-radius: 0.25em;background-color: #f0f8ff;}#sk-container-id-4 input.sk-toggleable__control:checked~div.sk-toggleable__content {max-height: 200px;max-width: 100%;overflow: auto;}#sk-container-id-4 input.sk-toggleable__control:checked~label.sk-toggleable__label-arrow:before {content: \"▾\";}#sk-container-id-4 div.sk-estimator input.sk-toggleable__control:checked~label.sk-toggleable__label {background-color: #d4ebff;}#sk-container-id-4 div.sk-label input.sk-toggleable__control:checked~label.sk-toggleable__label {background-color: #d4ebff;}#sk-container-id-4 input.sk-hidden--visually {border: 0;clip: rect(1px 1px 1px 1px);clip: rect(1px, 1px, 1px, 1px);height: 1px;margin: -1px;overflow: hidden;padding: 0;position: absolute;width: 1px;}#sk-container-id-4 div.sk-estimator {font-family: monospace;background-color: #f0f8ff;border: 1px dotted black;border-radius: 0.25em;box-sizing: border-box;margin-bottom: 0.5em;}#sk-container-id-4 div.sk-estimator:hover {background-color: #d4ebff;}#sk-container-id-4 div.sk-parallel-item::after {content: \"\";width: 100%;border-bottom: 1px solid gray;flex-grow: 1;}#sk-container-id-4 div.sk-label:hover label.sk-toggleable__label {background-color: #d4ebff;}#sk-container-id-4 div.sk-serial::before {content: \"\";position: absolute;border-left: 1px solid gray;box-sizing: border-box;top: 0;bottom: 0;left: 50%;z-index: 0;}#sk-container-id-4 div.sk-serial {display: flex;flex-direction: column;align-items: center;background-color: white;padding-right: 0.2em;padding-left: 0.2em;position: relative;}#sk-container-id-4 div.sk-item {position: relative;z-index: 1;}#sk-container-id-4 div.sk-parallel {display: flex;align-items: stretch;justify-content: center;background-color: white;position: relative;}#sk-container-id-4 div.sk-item::before, #sk-container-id-4 div.sk-parallel-item::before {content: \"\";position: absolute;border-left: 1px solid gray;box-sizing: border-box;top: 0;bottom: 0;left: 50%;z-index: -1;}#sk-container-id-4 div.sk-parallel-item {display: flex;flex-direction: column;z-index: 1;position: relative;background-color: white;}#sk-container-id-4 div.sk-parallel-item:first-child::after {align-self: flex-end;width: 50%;}#sk-container-id-4 div.sk-parallel-item:last-child::after {align-self: flex-start;width: 50%;}#sk-container-id-4 div.sk-parallel-item:only-child::after {width: 0;}#sk-container-id-4 div.sk-dashed-wrapped {border: 1px dashed gray;margin: 0 0.4em 0.5em 0.4em;box-sizing: border-box;padding-bottom: 0.4em;background-color: white;}#sk-container-id-4 div.sk-label label {font-family: monospace;font-weight: bold;display: inline-block;line-height: 1.2em;}#sk-container-id-4 div.sk-label-container {text-align: center;}#sk-container-id-4 div.sk-container {/* jupyter's `normalize.less` sets `[hidden] { display: none; }` but bootstrap.min.css set `[hidden] { display: none !important; }` so we also need the `!important` here to be able to override the default hidden behavior on the sphinx rendered scikit-learn.org. See: https://github.com/scikit-learn/scikit-learn/issues/21755 */display: inline-block !important;position: relative;}#sk-container-id-4 div.sk-text-repr-fallback {display: none;}</style><div id=\"sk-container-id-4\" class=\"sk-top-container\"><div class=\"sk-text-repr-fallback\"><pre>LogisticRegression()</pre><b>In a Jupyter environment, please rerun this cell to show the HTML representation or trust the notebook. <br />On GitHub, the HTML representation is unable to render, please try loading this page with nbviewer.org.</b></div><div class=\"sk-container\" hidden><div class=\"sk-item\"><div class=\"sk-estimator sk-toggleable\"><input class=\"sk-toggleable__control sk-hidden--visually\" id=\"sk-estimator-id-4\" type=\"checkbox\" checked><label for=\"sk-estimator-id-4\" class=\"sk-toggleable__label sk-toggleable__label-arrow\">LogisticRegression</label><div class=\"sk-toggleable__content\"><pre>LogisticRegression()</pre></div></div></div></div></div>"
      ],
      "text/plain": [
       "LogisticRegression()"
      ]
     },
     "execution_count": 120,
     "metadata": {},
     "output_type": "execute_result"
    }
   ],
   "source": [
    "L = LogisticRegression()\n",
    "L.fit(X_train,Y_train)"
   ]
  },
  {
   "cell_type": "code",
   "execution_count": 121,
   "id": "354d33b8",
   "metadata": {},
   "outputs": [],
   "source": [
    "from sklearn.metrics import classification_report,confusion_matrix, accuracy_score\n",
    "from sklearn.metrics import roc_auc_score"
   ]
  },
  {
   "cell_type": "code",
   "execution_count": 122,
   "id": "1026a74c",
   "metadata": {},
   "outputs": [
    {
     "name": "stdout",
     "output_type": "stream",
     "text": [
      "0.6551221290557784\n"
     ]
    }
   ],
   "source": [
    "predictions = L.predict(X_test)\n",
    "accuracy = accuracy_score(predictions,Y_test)\n",
    "print(accuracy)"
   ]
  },
  {
   "cell_type": "markdown",
   "id": "20578baa",
   "metadata": {},
   "source": [
    "#### ANN"
   ]
  },
  {
   "cell_type": "code",
   "execution_count": 123,
   "id": "814f84dd",
   "metadata": {},
   "outputs": [],
   "source": [
    "import tensorflow as tf\n",
    "from keras.models import Sequential\n",
    "from keras.layers import Dense, Dropout,Embedding"
   ]
  },
  {
   "cell_type": "code",
   "execution_count": 124,
   "id": "da84fb54",
   "metadata": {},
   "outputs": [],
   "source": [
    "ANN = Sequential([\n",
    "    Dense(32,activation='relu',input_shape = (X_train.shape[1],)),\n",
    "    Dense(64,activation='relu',input_shape = (X_train.shape[1],)),\n",
    "    Dense(128,activation='relu',input_shape = (X_train.shape[1],)),\n",
    "    Dense(64,activation='relu',input_shape = (X_train.shape[1],)),\n",
    "    Dense(32,activation='relu',input_shape = (X_train.shape[1],)),\n",
    "    Dense(1,activation='sigmoid',input_shape =(X_train.shape[1],)),\n",
    "])"
   ]
  },
  {
   "cell_type": "code",
   "execution_count": 125,
   "id": "f1492467",
   "metadata": {},
   "outputs": [],
   "source": [
    "ANN.compile(optimizer=\"adam\",\n",
    "             loss=\"binary_crossentropy\",\n",
    "             metrics=[\"accuracy\"]\n",
    "             )"
   ]
  },
  {
   "cell_type": "code",
   "execution_count": 126,
   "id": "fcb67fe4",
   "metadata": {},
   "outputs": [
    {
     "name": "stdout",
     "output_type": "stream",
     "text": [
      "Epoch 1/100\n",
      "50/50 [==============================] - 1s 6ms/step - loss: 1.5441 - accuracy: 0.5730 - val_loss: 0.9088 - val_accuracy: 0.5946\n",
      "Epoch 2/100\n",
      "50/50 [==============================] - 0s 3ms/step - loss: 0.7793 - accuracy: 0.6203 - val_loss: 0.7748 - val_accuracy: 0.5964\n",
      "Epoch 3/100\n",
      "50/50 [==============================] - 0s 3ms/step - loss: 0.6823 - accuracy: 0.6468 - val_loss: 0.7406 - val_accuracy: 0.6156\n",
      "Epoch 4/100\n",
      "50/50 [==============================] - 0s 3ms/step - loss: 0.6352 - accuracy: 0.6707 - val_loss: 0.7316 - val_accuracy: 0.6294\n",
      "Epoch 5/100\n",
      "50/50 [==============================] - 0s 3ms/step - loss: 0.5980 - accuracy: 0.6922 - val_loss: 0.7329 - val_accuracy: 0.6128\n",
      "Epoch 6/100\n",
      "50/50 [==============================] - 0s 3ms/step - loss: 0.5820 - accuracy: 0.6986 - val_loss: 0.7130 - val_accuracy: 0.6420\n",
      "Epoch 7/100\n",
      "50/50 [==============================] - 0s 4ms/step - loss: 0.5582 - accuracy: 0.7165 - val_loss: 0.6950 - val_accuracy: 0.6407\n",
      "Epoch 8/100\n",
      "50/50 [==============================] - 0s 3ms/step - loss: 0.5468 - accuracy: 0.7242 - val_loss: 0.6969 - val_accuracy: 0.6500\n",
      "Epoch 9/100\n",
      "50/50 [==============================] - 0s 3ms/step - loss: 0.5345 - accuracy: 0.7322 - val_loss: 0.7069 - val_accuracy: 0.6398\n",
      "Epoch 10/100\n",
      "50/50 [==============================] - 0s 4ms/step - loss: 0.5193 - accuracy: 0.7387 - val_loss: 0.7133 - val_accuracy: 0.6354\n",
      "Epoch 11/100\n",
      "50/50 [==============================] - 0s 3ms/step - loss: 0.5192 - accuracy: 0.7369 - val_loss: 0.7060 - val_accuracy: 0.6582\n",
      "Epoch 12/100\n",
      "50/50 [==============================] - 0s 3ms/step - loss: 0.5034 - accuracy: 0.7476 - val_loss: 0.7122 - val_accuracy: 0.6571\n",
      "Epoch 13/100\n",
      "50/50 [==============================] - 0s 4ms/step - loss: 0.4952 - accuracy: 0.7567 - val_loss: 0.7027 - val_accuracy: 0.6509\n",
      "Epoch 14/100\n",
      "50/50 [==============================] - 0s 4ms/step - loss: 0.4904 - accuracy: 0.7566 - val_loss: 0.7109 - val_accuracy: 0.6562\n",
      "Epoch 15/100\n",
      "50/50 [==============================] - 0s 3ms/step - loss: 0.4802 - accuracy: 0.7651 - val_loss: 0.7168 - val_accuracy: 0.6453\n",
      "Epoch 16/100\n",
      "50/50 [==============================] - 0s 5ms/step - loss: 0.4753 - accuracy: 0.7678 - val_loss: 0.7042 - val_accuracy: 0.6542\n",
      "Epoch 17/100\n",
      "50/50 [==============================] - 0s 4ms/step - loss: 0.4654 - accuracy: 0.7751 - val_loss: 0.7435 - val_accuracy: 0.6566\n",
      "Epoch 18/100\n",
      "50/50 [==============================] - 0s 3ms/step - loss: 0.4634 - accuracy: 0.7755 - val_loss: 0.7239 - val_accuracy: 0.6571\n",
      "Epoch 19/100\n",
      "50/50 [==============================] - 0s 5ms/step - loss: 0.4619 - accuracy: 0.7735 - val_loss: 0.7390 - val_accuracy: 0.6533\n",
      "Epoch 20/100\n",
      "50/50 [==============================] - 0s 4ms/step - loss: 0.4506 - accuracy: 0.7821 - val_loss: 0.7304 - val_accuracy: 0.6579\n",
      "Epoch 21/100\n",
      "50/50 [==============================] - 0s 4ms/step - loss: 0.4340 - accuracy: 0.7931 - val_loss: 0.7527 - val_accuracy: 0.6637\n",
      "Epoch 22/100\n",
      "50/50 [==============================] - 0s 4ms/step - loss: 0.4316 - accuracy: 0.7951 - val_loss: 0.8085 - val_accuracy: 0.6626\n",
      "Epoch 23/100\n",
      "50/50 [==============================] - 0s 3ms/step - loss: 0.4240 - accuracy: 0.7998 - val_loss: 0.7721 - val_accuracy: 0.6544\n",
      "Epoch 24/100\n",
      "50/50 [==============================] - 0s 3ms/step - loss: 0.4161 - accuracy: 0.8036 - val_loss: 0.7576 - val_accuracy: 0.6538\n",
      "Epoch 25/100\n",
      "50/50 [==============================] - 0s 4ms/step - loss: 0.4129 - accuracy: 0.8045 - val_loss: 0.7774 - val_accuracy: 0.6540\n",
      "Epoch 26/100\n",
      "50/50 [==============================] - 0s 5ms/step - loss: 0.4098 - accuracy: 0.8105 - val_loss: 0.7696 - val_accuracy: 0.6679\n",
      "Epoch 27/100\n",
      "50/50 [==============================] - 0s 3ms/step - loss: 0.3961 - accuracy: 0.8171 - val_loss: 0.7761 - val_accuracy: 0.6529\n",
      "Epoch 28/100\n",
      "50/50 [==============================] - 0s 3ms/step - loss: 0.3966 - accuracy: 0.8144 - val_loss: 0.8003 - val_accuracy: 0.6526\n",
      "Epoch 29/100\n",
      "50/50 [==============================] - 0s 4ms/step - loss: 0.3840 - accuracy: 0.8232 - val_loss: 0.8322 - val_accuracy: 0.6642\n",
      "Epoch 30/100\n",
      "50/50 [==============================] - 0s 4ms/step - loss: 0.3839 - accuracy: 0.8235 - val_loss: 0.8217 - val_accuracy: 0.6577\n",
      "Epoch 31/100\n",
      "50/50 [==============================] - 0s 3ms/step - loss: 0.3848 - accuracy: 0.8196 - val_loss: 0.8242 - val_accuracy: 0.6610\n",
      "Epoch 32/100\n",
      "50/50 [==============================] - 0s 3ms/step - loss: 0.3783 - accuracy: 0.8226 - val_loss: 0.8362 - val_accuracy: 0.6706\n",
      "Epoch 33/100\n",
      "50/50 [==============================] - 0s 3ms/step - loss: 0.3604 - accuracy: 0.8337 - val_loss: 0.8570 - val_accuracy: 0.6701\n",
      "Epoch 34/100\n",
      "50/50 [==============================] - 0s 4ms/step - loss: 0.3596 - accuracy: 0.8339 - val_loss: 0.8508 - val_accuracy: 0.6517\n",
      "Epoch 35/100\n",
      "50/50 [==============================] - 0s 3ms/step - loss: 0.3507 - accuracy: 0.8437 - val_loss: 0.8602 - val_accuracy: 0.6557\n",
      "Epoch 36/100\n",
      "50/50 [==============================] - 0s 4ms/step - loss: 0.3513 - accuracy: 0.8394 - val_loss: 0.8764 - val_accuracy: 0.6522\n",
      "Epoch 37/100\n",
      "50/50 [==============================] - 0s 5ms/step - loss: 0.3451 - accuracy: 0.8459 - val_loss: 0.8750 - val_accuracy: 0.6712\n",
      "Epoch 38/100\n",
      "50/50 [==============================] - 0s 3ms/step - loss: 0.3344 - accuracy: 0.8510 - val_loss: 0.8980 - val_accuracy: 0.6677\n",
      "Epoch 39/100\n",
      "50/50 [==============================] - 0s 3ms/step - loss: 0.3345 - accuracy: 0.8500 - val_loss: 0.9156 - val_accuracy: 0.6699\n",
      "Epoch 40/100\n",
      "50/50 [==============================] - 0s 3ms/step - loss: 0.3236 - accuracy: 0.8569 - val_loss: 0.9226 - val_accuracy: 0.6613\n",
      "Epoch 41/100\n",
      "50/50 [==============================] - 0s 4ms/step - loss: 0.3319 - accuracy: 0.8494 - val_loss: 0.9691 - val_accuracy: 0.6606\n",
      "Epoch 42/100\n",
      "50/50 [==============================] - 0s 5ms/step - loss: 0.3080 - accuracy: 0.8635 - val_loss: 0.9620 - val_accuracy: 0.6588\n",
      "Epoch 43/100\n",
      "50/50 [==============================] - 0s 3ms/step - loss: 0.3132 - accuracy: 0.8580 - val_loss: 0.9717 - val_accuracy: 0.6686\n",
      "Epoch 44/100\n",
      "50/50 [==============================] - 0s 4ms/step - loss: 0.3266 - accuracy: 0.8545 - val_loss: 0.9911 - val_accuracy: 0.6573\n",
      "Epoch 45/100\n",
      "50/50 [==============================] - 0s 6ms/step - loss: 0.3222 - accuracy: 0.8576 - val_loss: 0.9529 - val_accuracy: 0.6611\n",
      "Epoch 46/100\n",
      "50/50 [==============================] - 0s 4ms/step - loss: 0.3115 - accuracy: 0.8586 - val_loss: 0.9977 - val_accuracy: 0.6701\n",
      "Epoch 47/100\n",
      "50/50 [==============================] - 0s 4ms/step - loss: 0.3041 - accuracy: 0.8637 - val_loss: 0.9753 - val_accuracy: 0.6688\n",
      "Epoch 48/100\n",
      "50/50 [==============================] - 0s 4ms/step - loss: 0.2998 - accuracy: 0.8673 - val_loss: 1.0077 - val_accuracy: 0.6726\n",
      "Epoch 49/100\n",
      "50/50 [==============================] - 0s 4ms/step - loss: 0.2893 - accuracy: 0.8704 - val_loss: 1.0250 - val_accuracy: 0.6712\n",
      "Epoch 50/100\n",
      "50/50 [==============================] - 0s 4ms/step - loss: 0.2964 - accuracy: 0.8692 - val_loss: 1.0461 - val_accuracy: 0.6613\n",
      "Epoch 51/100\n",
      "50/50 [==============================] - 0s 5ms/step - loss: 0.2839 - accuracy: 0.8720 - val_loss: 1.0305 - val_accuracy: 0.6672\n",
      "Epoch 52/100\n",
      "50/50 [==============================] - 0s 4ms/step - loss: 0.2861 - accuracy: 0.8730 - val_loss: 1.0898 - val_accuracy: 0.6715\n",
      "Epoch 53/100\n",
      "50/50 [==============================] - 0s 3ms/step - loss: 0.2838 - accuracy: 0.8763 - val_loss: 1.0470 - val_accuracy: 0.6723\n",
      "Epoch 54/100\n",
      "50/50 [==============================] - 0s 5ms/step - loss: 0.2801 - accuracy: 0.8776 - val_loss: 1.0984 - val_accuracy: 0.6637\n",
      "Epoch 55/100\n",
      "50/50 [==============================] - 0s 3ms/step - loss: 0.2772 - accuracy: 0.8781 - val_loss: 1.0567 - val_accuracy: 0.6739\n",
      "Epoch 56/100\n",
      "50/50 [==============================] - 0s 4ms/step - loss: 0.2816 - accuracy: 0.8763 - val_loss: 1.1597 - val_accuracy: 0.6606\n",
      "Epoch 57/100\n",
      "50/50 [==============================] - 0s 4ms/step - loss: 0.2604 - accuracy: 0.8881 - val_loss: 1.0970 - val_accuracy: 0.6662\n",
      "Epoch 58/100\n",
      "50/50 [==============================] - 0s 3ms/step - loss: 0.2518 - accuracy: 0.8889 - val_loss: 1.0863 - val_accuracy: 0.6619\n",
      "Epoch 59/100\n",
      "50/50 [==============================] - 0s 3ms/step - loss: 0.2483 - accuracy: 0.8906 - val_loss: 1.1472 - val_accuracy: 0.6617\n",
      "Epoch 60/100\n",
      "50/50 [==============================] - 0s 4ms/step - loss: 0.2539 - accuracy: 0.8884 - val_loss: 1.1521 - val_accuracy: 0.6679\n",
      "Epoch 61/100\n",
      "50/50 [==============================] - 0s 3ms/step - loss: 0.2669 - accuracy: 0.8835 - val_loss: 1.1644 - val_accuracy: 0.6513\n",
      "Epoch 62/100\n",
      "50/50 [==============================] - 0s 3ms/step - loss: 0.2463 - accuracy: 0.8954 - val_loss: 1.1231 - val_accuracy: 0.6657\n",
      "Epoch 63/100\n",
      "50/50 [==============================] - 0s 4ms/step - loss: 0.2477 - accuracy: 0.8902 - val_loss: 1.2004 - val_accuracy: 0.6764\n",
      "Epoch 64/100\n",
      "50/50 [==============================] - 0s 3ms/step - loss: 0.2482 - accuracy: 0.8881 - val_loss: 1.1867 - val_accuracy: 0.6664\n",
      "Epoch 65/100\n",
      "50/50 [==============================] - 0s 3ms/step - loss: 0.2400 - accuracy: 0.8963 - val_loss: 1.2235 - val_accuracy: 0.6662\n",
      "Epoch 66/100\n",
      "50/50 [==============================] - 0s 4ms/step - loss: 0.2487 - accuracy: 0.8903 - val_loss: 1.1981 - val_accuracy: 0.6719\n",
      "Epoch 67/100\n",
      "50/50 [==============================] - 0s 3ms/step - loss: 0.2618 - accuracy: 0.8848 - val_loss: 1.2294 - val_accuracy: 0.6708\n",
      "Epoch 68/100\n",
      "50/50 [==============================] - 0s 3ms/step - loss: 0.2456 - accuracy: 0.8945 - val_loss: 1.2042 - val_accuracy: 0.6675\n",
      "Epoch 69/100\n",
      "50/50 [==============================] - 0s 4ms/step - loss: 0.2516 - accuracy: 0.8919 - val_loss: 1.1629 - val_accuracy: 0.6723\n",
      "Epoch 70/100\n",
      "50/50 [==============================] - 0s 3ms/step - loss: 0.2417 - accuracy: 0.8990 - val_loss: 1.2275 - val_accuracy: 0.6528\n",
      "Epoch 71/100\n",
      "50/50 [==============================] - 0s 3ms/step - loss: 0.2294 - accuracy: 0.9009 - val_loss: 1.2300 - val_accuracy: 0.6666\n",
      "Epoch 72/100\n",
      "50/50 [==============================] - 0s 3ms/step - loss: 0.2195 - accuracy: 0.9060 - val_loss: 1.2982 - val_accuracy: 0.6764\n",
      "Epoch 73/100\n",
      "50/50 [==============================] - 0s 4ms/step - loss: 0.2111 - accuracy: 0.9093 - val_loss: 1.2733 - val_accuracy: 0.6748\n",
      "Epoch 74/100\n",
      "50/50 [==============================] - 0s 3ms/step - loss: 0.2052 - accuracy: 0.9135 - val_loss: 1.3253 - val_accuracy: 0.6750\n",
      "Epoch 75/100\n",
      "50/50 [==============================] - 0s 3ms/step - loss: 0.2050 - accuracy: 0.9125 - val_loss: 1.2915 - val_accuracy: 0.6624\n",
      "Epoch 76/100\n",
      "50/50 [==============================] - 0s 5ms/step - loss: 0.1972 - accuracy: 0.9162 - val_loss: 1.3403 - val_accuracy: 0.6686\n",
      "Epoch 77/100\n",
      "50/50 [==============================] - 0s 3ms/step - loss: 0.2168 - accuracy: 0.9052 - val_loss: 1.3484 - val_accuracy: 0.6655\n",
      "Epoch 78/100\n",
      "50/50 [==============================] - 0s 3ms/step - loss: 0.2240 - accuracy: 0.9031 - val_loss: 1.2794 - val_accuracy: 0.6675\n",
      "Epoch 79/100\n",
      "50/50 [==============================] - 0s 4ms/step - loss: 0.2297 - accuracy: 0.9041 - val_loss: 1.3516 - val_accuracy: 0.6744\n",
      "Epoch 80/100\n",
      "50/50 [==============================] - 0s 3ms/step - loss: 0.2100 - accuracy: 0.9118 - val_loss: 1.3596 - val_accuracy: 0.6721\n",
      "Epoch 81/100\n",
      "50/50 [==============================] - 0s 3ms/step - loss: 0.2155 - accuracy: 0.9109 - val_loss: 1.4125 - val_accuracy: 0.6681\n",
      "Epoch 82/100\n",
      "50/50 [==============================] - 0s 3ms/step - loss: 0.2142 - accuracy: 0.9079 - val_loss: 1.3533 - val_accuracy: 0.6639\n",
      "Epoch 83/100\n",
      "50/50 [==============================] - 0s 4ms/step - loss: 0.2107 - accuracy: 0.9104 - val_loss: 1.3985 - val_accuracy: 0.6646\n",
      "Epoch 84/100\n",
      "50/50 [==============================] - 0s 3ms/step - loss: 0.1942 - accuracy: 0.9191 - val_loss: 1.3908 - val_accuracy: 0.6690\n",
      "Epoch 85/100\n",
      "50/50 [==============================] - 0s 3ms/step - loss: 0.1997 - accuracy: 0.9156 - val_loss: 1.4208 - val_accuracy: 0.6723\n",
      "Epoch 86/100\n",
      "50/50 [==============================] - 0s 4ms/step - loss: 0.2094 - accuracy: 0.9133 - val_loss: 1.3845 - val_accuracy: 0.6653\n",
      "Epoch 87/100\n",
      "50/50 [==============================] - 0s 4ms/step - loss: 0.2108 - accuracy: 0.9094 - val_loss: 1.3843 - val_accuracy: 0.6695\n",
      "Epoch 88/100\n",
      "50/50 [==============================] - 0s 4ms/step - loss: 0.1975 - accuracy: 0.9173 - val_loss: 1.3953 - val_accuracy: 0.6746\n",
      "Epoch 89/100\n",
      "50/50 [==============================] - 0s 4ms/step - loss: 0.1944 - accuracy: 0.9176 - val_loss: 1.3945 - val_accuracy: 0.6748\n",
      "Epoch 90/100\n",
      "50/50 [==============================] - 0s 3ms/step - loss: 0.1824 - accuracy: 0.9248 - val_loss: 1.4654 - val_accuracy: 0.6661\n",
      "Epoch 91/100\n",
      "50/50 [==============================] - 0s 3ms/step - loss: 0.1828 - accuracy: 0.9230 - val_loss: 1.4214 - val_accuracy: 0.6695\n",
      "Epoch 92/100\n",
      "50/50 [==============================] - 0s 3ms/step - loss: 0.1785 - accuracy: 0.9244 - val_loss: 1.4399 - val_accuracy: 0.6703\n",
      "Epoch 93/100\n",
      "50/50 [==============================] - 0s 5ms/step - loss: 0.1774 - accuracy: 0.9261 - val_loss: 1.5268 - val_accuracy: 0.6723\n",
      "Epoch 94/100\n",
      "50/50 [==============================] - 0s 3ms/step - loss: 0.1920 - accuracy: 0.9191 - val_loss: 1.4847 - val_accuracy: 0.6582\n",
      "Epoch 95/100\n",
      "50/50 [==============================] - 0s 3ms/step - loss: 0.1858 - accuracy: 0.9242 - val_loss: 1.4774 - val_accuracy: 0.6692\n",
      "Epoch 96/100\n",
      "50/50 [==============================] - 0s 4ms/step - loss: 0.1955 - accuracy: 0.9181 - val_loss: 1.5069 - val_accuracy: 0.6734\n",
      "Epoch 97/100\n",
      "50/50 [==============================] - 0s 3ms/step - loss: 0.1833 - accuracy: 0.9252 - val_loss: 1.5424 - val_accuracy: 0.6737\n",
      "Epoch 98/100\n",
      "50/50 [==============================] - 0s 4ms/step - loss: 0.1767 - accuracy: 0.9280 - val_loss: 1.6071 - val_accuracy: 0.6735\n",
      "Epoch 99/100\n",
      "50/50 [==============================] - 0s 4ms/step - loss: 0.1977 - accuracy: 0.9184 - val_loss: 1.5377 - val_accuracy: 0.6686\n",
      "Epoch 100/100\n",
      "50/50 [==============================] - 0s 3ms/step - loss: 0.1812 - accuracy: 0.9234 - val_loss: 1.5791 - val_accuracy: 0.6748\n"
     ]
    }
   ],
   "source": [
    "history = ANN.fit(X_train,Y_train,epochs=100,batch_size = 256,validation_data=(X_test,Y_test))"
   ]
  },
  {
   "cell_type": "code",
   "execution_count": 127,
   "id": "6de2c025",
   "metadata": {},
   "outputs": [
    {
     "data": {
      "text/plain": [
       "[<matplotlib.lines.Line2D at 0x1d214177130>]"
      ]
     },
     "execution_count": 127,
     "metadata": {},
     "output_type": "execute_result"
    },
    {
     "data": {
      "image/png": "[encoded data removed]",
      "text/plain": [
       "<Figure size 432x288 with 1 Axes>"
      ]
     },
     "metadata": {
      "needs_background": "light"
     },
     "output_type": "display_data"
    }
   ],
   "source": [
    "H = history.history\n",
    "import matplotlib.pyplot as plt\n",
    "plt.plot(H['accuracy'])\n",
    "plt.plot(H['val_accuracy'])"
   ]
  },
  {
   "cell_type": "code",
   "execution_count": 128,
   "id": "91351456",
   "metadata": {},
   "outputs": [
    {
     "data": {
      "text/plain": [
       "[<matplotlib.lines.Line2D at 0x1d2141a7ca0>]"
      ]
     },
     "execution_count": 128,
     "metadata": {},
     "output_type": "execute_result"
    },
    {
     "data": {
      "image/png": "[encoded data removed]",
      "text/plain": [
       "<Figure size 432x288 with 1 Axes>"
      ]
     },
     "metadata": {
      "needs_background": "light"
     },
     "output_type": "display_data"
    }
   ],
   "source": [
    "\n",
    "plt.plot(H['loss'])\n",
    "plt.plot(H['val_loss'])"
   ]
  },
  {
   "cell_type": "markdown",
   "id": "15c9e87f",
   "metadata": {},
   "source": [
    "#### LSTM "
   ]
  },
  {
   "cell_type": "code",
   "execution_count": 129,
   "id": "6d164026",
   "metadata": {},
   "outputs": [],
   "source": [
    "embedded_vector_features=40\n",
    "model = Sequential()\n",
    "model.add(tf.keras.layers.Embedding(1000, embedded_vector_features, input_length=X_train.shape[1]))\n",
    "model.add(tf.keras.layers.Dropout(0.4))\n",
    "model.add(tf.keras.layers.LSTM(300))\n",
    "model.add(tf.keras.layers.Dropout(0.4))\n",
    "model.add(tf.keras.layers.Dense(1, activation='sigmoid'))"
   ]
  },
  {
   "cell_type": "code",
   "execution_count": 130,
   "id": "62522e02",
   "metadata": {},
   "outputs": [],
   "source": [
    "model.compile(optimizer='Adam',\n",
    "             loss='binary_crossentropy',\n",
    "             metrics=['accuracy'])"
   ]
  },
  {
   "cell_type": "code",
   "execution_count": 131,
   "id": "cf08a090",
   "metadata": {},
   "outputs": [
    {
     "name": "stdout",
     "output_type": "stream",
     "text": [
      "Epoch 1/20\n",
      "25/25 [==============================] - 25s 922ms/step - loss: 0.6428 - accuracy: 0.6086 - val_loss: 0.5752 - val_accuracy: 0.7716\n",
      "Epoch 2/20\n",
      "25/25 [==============================] - 23s 930ms/step - loss: 0.4409 - accuracy: 0.8304 - val_loss: 0.2851 - val_accuracy: 0.8881\n",
      "Epoch 3/20\n",
      "25/25 [==============================] - 23s 932ms/step - loss: 0.1768 - accuracy: 0.9358 - val_loss: 0.1173 - val_accuracy: 0.9559\n",
      "Epoch 4/20\n",
      "25/25 [==============================] - 23s 934ms/step - loss: 0.0937 - accuracy: 0.9727 - val_loss: 0.0773 - val_accuracy: 0.9752\n",
      "Epoch 5/20\n",
      "25/25 [==============================] - 23s 934ms/step - loss: 0.0606 - accuracy: 0.9819 - val_loss: 0.0686 - val_accuracy: 0.9779\n",
      "Epoch 6/20\n",
      "25/25 [==============================] - 23s 930ms/step - loss: 0.0515 - accuracy: 0.9848 - val_loss: 0.0626 - val_accuracy: 0.9799\n",
      "Epoch 7/20\n",
      "25/25 [==============================] - 23s 933ms/step - loss: 0.0453 - accuracy: 0.9852 - val_loss: 0.0586 - val_accuracy: 0.9814\n",
      "Epoch 8/20\n",
      "25/25 [==============================] - 23s 934ms/step - loss: 0.0490 - accuracy: 0.9860 - val_loss: 0.0642 - val_accuracy: 0.9820\n",
      "Epoch 9/20\n",
      "25/25 [==============================] - 23s 935ms/step - loss: 0.0371 - accuracy: 0.9882 - val_loss: 0.0591 - val_accuracy: 0.9799\n",
      "Epoch 10/20\n",
      "25/25 [==============================] - 23s 937ms/step - loss: 0.0324 - accuracy: 0.9895 - val_loss: 0.0564 - val_accuracy: 0.9823\n",
      "Epoch 11/20\n",
      "25/25 [==============================] - 24s 952ms/step - loss: 0.0317 - accuracy: 0.9905 - val_loss: 0.0601 - val_accuracy: 0.9798\n",
      "Epoch 12/20\n",
      "25/25 [==============================] - 23s 934ms/step - loss: 0.0366 - accuracy: 0.9887 - val_loss: 0.0603 - val_accuracy: 0.9823\n",
      "Epoch 13/20\n",
      "25/25 [==============================] - 23s 939ms/step - loss: 0.0267 - accuracy: 0.9917 - val_loss: 0.0652 - val_accuracy: 0.9783\n",
      "Epoch 14/20\n",
      "25/25 [==============================] - 23s 933ms/step - loss: 0.0378 - accuracy: 0.9890 - val_loss: 0.0603 - val_accuracy: 0.9832\n",
      "Epoch 15/20\n",
      "25/25 [==============================] - 23s 939ms/step - loss: 0.0291 - accuracy: 0.9919 - val_loss: 0.0558 - val_accuracy: 0.9823\n",
      "Epoch 16/20\n",
      "25/25 [==============================] - 23s 931ms/step - loss: 0.0238 - accuracy: 0.9921 - val_loss: 0.0652 - val_accuracy: 0.9812\n",
      "Epoch 17/20\n",
      "25/25 [==============================] - 23s 931ms/step - loss: 0.0225 - accuracy: 0.9927 - val_loss: 0.0577 - val_accuracy: 0.9830\n",
      "Epoch 18/20\n",
      "25/25 [==============================] - 24s 961ms/step - loss: 0.0263 - accuracy: 0.9919 - val_loss: 0.0609 - val_accuracy: 0.9830\n",
      "Epoch 19/20\n",
      "25/25 [==============================] - 24s 947ms/step - loss: 0.0192 - accuracy: 0.9945 - val_loss: 0.0642 - val_accuracy: 0.9832\n",
      "Epoch 20/20\n",
      "25/25 [==============================] - 23s 936ms/step - loss: 0.0180 - accuracy: 0.9948 - val_loss: 0.0587 - val_accuracy: 0.9832\n"
     ]
    }
   ],
   "source": [
    "LSTM = model.fit(X_train,Y_train,epochs=20,batch_size = 512,validation_data=(X_test,Y_test))"
   ]
  },
  {
   "cell_type": "code",
   "execution_count": 132,
   "id": "fdb2f15e",
   "metadata": {},
   "outputs": [
    {
     "data": {
      "text/plain": [
       "[<matplotlib.lines.Line2D at 0x1d22a978160>]"
      ]
     },
     "execution_count": 132,
     "metadata": {},
     "output_type": "execute_result"
    },
    {
     "data": {
      "image/png": "[encoded data removed]",
      "text/plain": [
       "<Figure size 432x288 with 1 Axes>"
      ]
     },
     "metadata": {
      "needs_background": "light"
     },
     "output_type": "display_data"
    }
   ],
   "source": [
    "lstm = history.history\n",
    "import matplotlib.pyplot as plt\n",
    "plt.plot(lstm['accuracy'])\n",
    "plt.plot(lstm['val_accuracy'])"
   ]
  },
  {
   "cell_type": "code",
   "execution_count": 133,
   "id": "59f2d632",
   "metadata": {},
   "outputs": [
    {
     "data": {
      "text/plain": [
       "[<matplotlib.lines.Line2D at 0x1d22a9c9880>]"
      ]
     },
     "execution_count": 133,
     "metadata": {},
     "output_type": "execute_result"
    },
    {
     "data": {
      "image/png": "[encoded data removed]",
      "text/plain": [
       "<Figure size 432x288 with 1 Axes>"
      ]
     },
     "metadata": {
      "needs_background": "light"
     },
     "output_type": "display_data"
    }
   ],
   "source": [
    "lstm = history.history\n",
    "import matplotlib.pyplot as plt\n",
    "plt.plot(lstm['loss'])\n",
    "plt.plot(lstm['val_loss'])"
   ]
  },
  {
   "cell_type": "code",
   "execution_count": 134,
   "id": "3489c4e3",
   "metadata": {},
   "outputs": [
    {
     "name": "stdout",
     "output_type": "stream",
     "text": [
      "172/172 [==============================] - 9s 50ms/step\n"
     ]
    }
   ],
   "source": [
    "P = model.predict(X_test)"
   ]
  },
  {
   "cell_type": "code",
   "execution_count": 135,
   "id": "85138c24",
   "metadata": {},
   "outputs": [],
   "source": [
    "Y_pred = []\n",
    "for i in range(len(P)):\n",
    "    if P[i]>=0.5:\n",
    "        Y_pred.append(1)\n",
    "    else:\n",
    "        Y_pred.append(0)"
   ]
  },
  {
   "cell_type": "code",
   "execution_count": 136,
   "id": "aa1ea989",
   "metadata": {},
   "outputs": [
    {
     "name": "stdout",
     "output_type": "stream",
     "text": [
      "              precision    recall  f1-score   support\n",
      "\n",
      "           0       0.98      0.99      0.99      3090\n",
      "           1       0.98      0.98      0.98      2396\n",
      "\n",
      "    accuracy                           0.98      5486\n",
      "   macro avg       0.98      0.98      0.98      5486\n",
      "weighted avg       0.98      0.98      0.98      5486\n",
      "\n"
     ]
    }
   ],
   "source": [
    "print(classification_report(Y_pred,Y_test))"
   ]
  },
  {
   "cell_type": "code",
   "execution_count": 137,
   "id": "d4bddf55",
   "metadata": {},
   "outputs": [
    {
     "data": {
      "text/plain": [
       "array([[3053,   37],\n",
       "       [  55, 2341]], dtype=int64)"
      ]
     },
     "execution_count": 137,
     "metadata": {},
     "output_type": "execute_result"
    }
   ],
   "source": [
    "confusion_matrix(Y_pred,Y_test)"
   ]
  },
  {
   "cell_type": "code",
   "execution_count": 138,
   "id": "5e0f592b",
   "metadata": {},
   "outputs": [
    {
     "data": {
      "text/plain": [
       "0.983230040102078"
      ]
     },
     "execution_count": 138,
     "metadata": {},
     "output_type": "execute_result"
    }
   ],
   "source": [
    "accuracy_score(Y_pred,Y_test)"
   ]
  },
  {
   "cell_type": "code",
   "execution_count": null,
   "id": "414598d2",
   "metadata": {},
   "outputs": [],
   "source": []
  }
 ],
 "metadata": {
  "kernelspec": {
   "display_name": "Python 3 (ipykernel)",
   "language": "python",
   "name": "python3"
  },
  "language_info": {
   "codemirror_mode": {
    "name": "ipython",
    "version": 3
   },
   "file_extension": ".py",
   "mimetype": "text/x-python",
   "name": "python",
   "nbconvert_exporter": "python",
   "pygments_lexer": "ipython3",
   "version": "3.9.7"
  }
 },
 "nbformat": 4,
 "nbformat_minor": 5
}
